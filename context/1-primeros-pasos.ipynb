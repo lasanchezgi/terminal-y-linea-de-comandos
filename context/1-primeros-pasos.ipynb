{
 "cells": [
  {
   "attachments": {},
   "cell_type": "markdown",
   "metadata": {},
   "source": [
    "# Primeros pasos"
   ]
  },
  {
   "attachments": {},
   "cell_type": "markdown",
   "metadata": {},
   "source": [
    "## ¿Qué es la terminal?\n",
    "\n",
    "La terminal es un programa que ejecuta líneas de comandos, que a su vez estas líneas de comando ejecutan acciones y aquí tienes que aprender dos conceptos: terminal y shell.\n",
    "\n",
    "### Concepto de terminal\n",
    "\n",
    "Estamos muy acostumbrados a que en nuestra computadora inicie un sistema operativo que tenga un sistema de ventanas en el que podemos abrir carpetas y programas y podamos mover archivos a través de una interfaz gráfica.\n",
    "\n",
    "La terminal es otra ventana más, es un programa, una interfaz que recibe un comando para luego pasárselo a la shell y que esta última la ejecute. Con este programa podemos hacer todo lo que el sistema de carpetas e interfaz gráfica del sistema operativo puede hacer, pero utilizando comandos.\n",
    "\n",
    "### Concepto de shell\n",
    "\n",
    "Ahora la terminal no ejecuta líneas de código, solo la recibe, es la shell quien hace todo el proceso de tomar el comando, ir con el procesador y la memoria RAM y decirles “tomen, ejecuten esto”.\n",
    "\n",
    "Si lo pensamos de otra forma, la shell nos proporciona una forma de comunicarnos con el procesador y la RAM sin tener que pasar por la interfaz gráfica.\n",
    "\n",
    "### ¿Por qué usar la shell y no la interfaz gráfica?\n",
    "\n",
    "Al final del día, la interfaz gráfica, como lo es el sistema de ventanas, es un programa más y como programa que es ocupa espacio en la memoria. De hecho, si estás en Windows 10 y abres el administrador de tareas en la pestaña Procesos, en el grupo Procesos de Windows, encontrarás uno llamado Explorador de Windows.\n",
    "\n",
    "Este programa no es todo el sistema de ventanas, pero si es todo el sistema de ficheros y como podemos ver ocupa espacio en CPU y en memoria RAM.\n",
    "\n",
    "La terminal es mucho menos pesada que el sistema de ventanas y el sistema de ficheros porque te comunicas directamente con los recursos del sistema operativo sin pasar por la interfaz gráfica.\n",
    "\n",
    "Además hay casos en los que no cuentas con una interfaz gráfica o también puede dañarse y tendrás que resolver utilizando la terminal de comandos."
   ]
  },
  {
   "attachments": {},
   "cell_type": "markdown",
   "metadata": {},
   "source": [
    "## Aprendiendo a caminar en la terminal\n",
    "\n",
    "* **pwd**\tPrint Working Directory Muestra en la carpeta en la que estas\n",
    "* **cd**\tChange Directory Te mueve a la carpeta que desees\n",
    "* **ls**\tList Lista los archivos y carpetas dentro del directorio que selecciones\n",
    "* **file**\tMuestra la información del archivo que selecciones"
   ]
  },
  {
   "attachments": {},
   "cell_type": "markdown",
   "metadata": {},
   "source": [
    "## Manipulando archivos y directorios\n",
    "\n",
    "* **mkdir**\tMake Directory Crea carpetas\n",
    "* **touch**\tCrea archivos\n",
    "* **cp**\tCopy Copia archivos\n",
    "* **mv**\tMove mueve archivos\n",
    "* **rm**\tRemove elimina archivos o carpetas"
   ]
  },
  {
   "attachments": {},
   "cell_type": "markdown",
   "metadata": {},
   "source": [
    "## Explorando el contenido de nuestros archivos\n",
    "\n",
    "* **head**\tMuestra las primeras 10 líneas\n",
    "* **tail**\tMuestra las últimas 10 líneas\n",
    "* **less**\tMuestra todo el contenido dentro de la consola\n",
    "* **xdg-open**\tAbre un programa para inspeccionar ese archivo\n",
    "* **nautilus**\tAbre en la interfaz de ventanas la carpeta que selecciones"
   ]
  },
  {
   "attachments": {},
   "cell_type": "markdown",
   "metadata": {},
   "source": [
    "## ¿Qué es un comando?\n",
    "\n",
    "Un comando es un mensaje enviado al ordenador que provoca una respuesta en este sistema y se comporta como una orden, pues informa al dispositivo informático que debe ejecutar una acción según la indicación que pueda enviarse.\n",
    "\n",
    "Cada sistema operativo incorpora un determinado número de comandos básicos, que permiten ejecutar las tareas más simples con órdenes directas. A continuación conocerás todo lo relacionado con sistemas operativos basados en UNIX y sus comandos básicos en la terminal.\n",
    "\n",
    "Un comando pueden significar cuatro cosas:\n",
    "\n",
    "1. Un programa ejecutable\n",
    "2. Un comando de utilidad de la shell. Esto es un programa en sí mismo, que puede tener funciones. Ejemplo cd\n",
    "3. Una función de shell. Son funciones de shell externas al comando de utilidad. Ejemplo mkdir\n",
    "4. Un alias. Un ejemplo es ls\n",
    "\n",
    "\n",
    "### Ejemplos de comandos básicos de la terminal\n",
    "Ahora conocerás varios tipos de comandos que puedes aplicar en el proyecto que estás realizando.\n",
    "\n",
    "* type <comando>: Nos permite conocer qué tipo de comando es 🤔.\n",
    "* alias l=\"<secuencia de comandos>\": Nos permite crear comandos. Son temporales, se borran al cerrar la terminal 👶🏼.\n",
    "* help <comando>: Nos permite consultar un poco de documentación de un comando 📄.\n",
    "* man <comando>: De manual, nos permite conocer mucha más información de un comando.\n",
    "* info <comando>: Similar al anterior, pero un poco resumido y con otro formato.\n",
    "* whatis <comando>: Describe un comando en una sola línea ☺️. No funciona con todos."
   ]
  },
  {
   "attachments": {},
   "cell_type": "markdown",
   "metadata": {},
   "source": [
    "## Wildcard\n",
    "\n",
    "Las wildcards o comodines son una serie de caracteres especiales que nos permiten encontrar patrones o realizar búsquedas más avanzadas. Es aplicable para archivos y directorios.\n",
    "\n",
    "Las wildcards te sirven para realizar seccionamiento de archivos o directorios, ademas de ls los wildcards tambien pueden usarse con cualquier comando que realice la manipulación de archivos como mv, cp y rm.\n",
    "\n",
    "* (*)\tBusca todo\n",
    "* ?\tBusca por cantidad de caracteres\n",
    "* []\tBusca por caracteres específicos"
   ]
  }
 ],
 "metadata": {
  "language_info": {
   "name": "python"
  },
  "orig_nbformat": 4
 },
 "nbformat": 4,
 "nbformat_minor": 2
}
